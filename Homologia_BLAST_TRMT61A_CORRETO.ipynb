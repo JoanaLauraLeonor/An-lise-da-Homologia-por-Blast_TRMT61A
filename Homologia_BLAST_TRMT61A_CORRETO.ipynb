{
 "cells": [
  {
   "cell_type": "markdown",
   "metadata": {},
   "source": [
    "Análise de homologia por BLAST - GENE TRMT61A\n",
    "Nota:Para a realização de todo o código do trabalho teve-se em conta o tutorial do Biopython. Nesta parte em específico para além de se ter em conta tutorial do Biopython teve-se em conta a resolução de algumas fichas de trabalhos sobre a parte da homlogia resolvidas por alunos dos anos anteriores.\n",
    "Consoante os códigos que estavam disponíveis no tutorial e essas mesmas resoluções, tentamos adaptar ós diferentes códigos encontrados aos genes de interesse, neste caso tentamos adaptar ao gene TRMT61A."
   ]
  },
  {
   "cell_type": "markdown",
   "metadata": {},
   "source": [
    "1.Para a parte da homologia podíamos fazer de duas maneiras distintas: Primeira: A partir do ficheiro do GenBank obtido no ficheiro Jupyter \"NCBI_GENBANK_TRMT61A_novo\" para o Gene TRMT61A sabíamos qual era a proteína codificada por este gene e qual o seu ID ( passo número 2). Consequentemente, recorrendo ao site do NCBI, gravava-se o ficheiro da proteína em formato Fasta; Segunda:com base no ficheiro \"NCBI_GENBANK_TRMT61A_novo\" conseguíamos saber qual a sequência proteica codificada pelo gene ELP4 ( tanto o nome, como a própria sequência-no passo número 5) e posteriormente, podíamos convertê-la para um ficheiro em formato fasta.\n",
    "Para esta parte da homologia tívemos então em conta a primeira das duas maneiras mencionadas em cima.\n",
    "1.1.Utilzou-se um dos modulos do Biopython, o Bio.SeqIO, e verificou-se quantos aminoáciodos tinha a sequência guardada/gravada e imprimiu-se a sequência, só para verificar que a sequência guardada foi mesmo a sequência proteica que queríamos analisar.( a sequencia proteica codificada pelo gene TRMT61A - NP_689520.2)."
   ]
  },
  {
   "cell_type": "code",
   "execution_count": 2,
   "metadata": {},
   "outputs": [
    {
     "name": "stdout",
     "output_type": "stream",
     "text": [
      "289\n",
      "MSFVAYEELIKEGDTAILSLGHGAMVAVRVQRGAQTQTRHGVLRHSVDLIGRPFGSKVTCGRGGWVYVLHPTPELWTLNLPHRTQILYSTDIALITMMLELRPGSVVCESGTGSGSVSHAIIRTIAPTGHLHTVEFHQQRAEKAREEFQEHRVGRWVTVRTQDVCRSGFGVSHVADAVFLDIPSPWEAVGHAWDALKVEGGRFCSFSPCIEQVQRTCQALAARGFSELSTLEVLPQVYNVRTVSLPPPDLGTGTDGPAGSDTSPFRSGTPMKEAVGHTGYLTFATKTPG\n"
     ]
    }
   ],
   "source": [
    "from Bio import SeqIO\n",
    "ficheiro=SeqIO.read(\"sequenceTRMT61A.fasta\",\"fasta\")\n",
    "sequencia=ficheiro.seq\n",
    "tamanho=len(sequencia)\n",
    "print(tamanho)\n",
    "print(sequencia)"
   ]
  },
  {
   "cell_type": "markdown",
   "metadata": {},
   "source": [
    "2.Recorrendo a outras funções que se encontram no Biopython como a Bio.Blast, efetuou-se uma pesquisa por sequências similares (no NCBI, mais especificamente na ferramenta BLAST-blastp), à sequência proteica guardada em formato fasta codificada pelo gene ELP4. Utilizou-se a base de dados \"nr->non-redundant\" uma vez que se trata de uma sequência proteica."
   ]
  },
  {
   "cell_type": "code",
   "execution_count": 3,
   "metadata": {},
   "outputs": [],
   "source": [
    "from Bio.Blast import NCBIWWW\n",
    "blast=NCBIWWW.qblast(\"blastp\",\"nr\",ficheiro.format(\"fasta\"))"
   ]
  },
  {
   "cell_type": "markdown",
   "metadata": {},
   "source": [
    "3.Seguidamente,apresenta-se o código que gravou o resultado de todas as sequências que alinhavam com a sequência proteica do gene TRMT61A num ficheiro XML"
   ]
  },
  {
   "cell_type": "code",
   "execution_count": 4,
   "metadata": {},
   "outputs": [],
   "source": [
    "save_file=open(\"blast_SEQUENCE.xml\",\"w\")\n",
    "save_file.write(blast.read())\n",
    "save_file.close()\n",
    "blast.close()"
   ]
  },
  {
   "cell_type": "markdown",
   "metadata": {},
   "source": [
    "4.Mais uma vez, recorrendo a funções existentes no Biopython, realizou-se o parsing do ficheiro guardado em XML ( NCBIXML.parse(resultados)).Depois,de se fazer o parsing do ficheiro analisou-se os parâmetros globais da pesquisa, verificando-se assim a base de dados utilizada, a matriz de substituição e os parâmetros para os espaçamentos."
   ]
  },
  {
   "cell_type": "code",
   "execution_count": 5,
   "metadata": {},
   "outputs": [],
   "source": [
    "resultados=open(\"blast_SEQUENCE.xml\")\n",
    "from Bio.Blast import NCBIXML\n",
    "blast_resultados=NCBIXML.parse(resultados)\n",
    "for blast_resultados in blast_resultados:\n",
    "    matriz=blast_resultados.matrix\n",
    "    base_dados=blast_resultados.database\n",
    "    espacamentos=blast_resultados.gap_penalties"
   ]
  },
  {
   "cell_type": "code",
   "execution_count": 6,
   "metadata": {},
   "outputs": [
    {
     "data": {
      "text/plain": [
       "1"
      ]
     },
     "execution_count": 6,
     "metadata": {},
     "output_type": "execute_result"
    }
   ],
   "source": [
    "x = blast_resultados.alignments[0]\n",
    "# for h in blast_resultados.alignments[0].hsps:\n",
    "len(blast_resultados.alignments[0].hsps)"
   ]
  },
  {
   "cell_type": "markdown",
   "metadata": {},
   "source": [
    "5.Usando o objeto anterior, verificou-se: o número de alinhamentos do registo ( valor limite: 50- parâmetro que foi estipulado. Na prática o alinhamento foi feito com 100 sequências, como se pode ver no site)\n",
    "Analisou-se com pormenor os dez primeiros destes alinhamentos verificando o “acession” da sequência que fez match, o id do hit, a sua definição e o número de HSPs do alinhamento. Porém podia se fazer também para os restantes alinhamentos, modificando se apenas o número que se encontra dentro de parêntises retos, entre 0 e 49.  \n",
    "Consoante os resultados obtidos, pela a análise do alinhamento identificar a proteína que nos foi dada."
   ]
  },
  {
   "cell_type": "code",
   "execution_count": 7,
   "metadata": {},
   "outputs": [
    {
     "name": "stdout",
     "output_type": "stream",
     "text": [
      "50\n",
      "ref|NP_689520.2| tRNA (adenine(58)-N(1))-methyltransferase catalytic subunit TRMT61A [Homo sapiens] >ref|XP_003807066.1| tRNA (adenine(58)-N(1))-methyltransferase catalytic subunit TRMT61A [Pan paniscus] >ref|XP_004055794.1| tRNA (adenine(58)-N(1))-methyltransferase catalytic subunit TRMT61A [Gorilla gorilla gorilla] >ref|XP_016782265.1| tRNA (adenine(58)-N(1))-methyltransferase catalytic subunit TRMT61A [Pan troglodytes] >ref|XP_016782266.1| tRNA (adenine(58)-N(1))-methyltransferase catalytic subunit TRMT61A [Pan troglodytes] >sp|Q96FX7.1| RecName: Full=tRNA (adenine(58)-N(1))-methyltransferase catalytic subunit TRMT61A; AltName: Full=mRNA methyladenosine-N(1)-methyltransferase catalytic subunit TRMT61A; AltName: Full=tRNA(m1A58)-methyltransferase subunit TRMT61A; Short=tRNA(m1A58)MTase subunit TRMT61A [Homo sapiens] >pdb|5CCB|A Chain A, Trna (adenine(58)-n(1))-methyltransferase Catalytic Subunit Trmt61a [Homo sapiens] >pdb|5CCX|A Chain A, Trna (adenine(58)-n(1))-methyltransferase Catalytic Subunit Trmt61a [Homo sapiens] >pdb|5CD1|A Chain A, Trna (adenine(58)-n(1))-methyltransferase Catalytic Subunit Trmt61a [Homo sapiens] >pdb|5CD1|D Chain D, Trna (adenine(58)-n(1))-methyltransferase Catalytic Subunit Trmt61a [Homo sapiens] >gb|AIC52871.1| TRMT61A, partial [synthetic construct] >emb|SJX32872.1| unnamed protein product, partial [Human ORFeome Gateway entry vector] >gb|AAH10167.1| TRNA methyltransferase 61 homolog A (S. cerevisiae) [Homo sapiens] >gb|EAW81824.1| chromosome 14 open reading frame 172, isoform CRA_b [Homo sapiens] >gb|EAW81825.1| chromosome 14 open reading frame 172, isoform CRA_b [Homo sapiens]\n",
      "           Length = 289\n",
      "\n",
      "ref|NP_689520.2|\n",
      "tRNA (adenine(58)-N(1))-methyltransferase catalytic subunit TRMT61A [Homo sapiens] >ref|XP_003807066.1| tRNA (adenine(58)-N(1))-methyltransferase catalytic subunit TRMT61A [Pan paniscus] >ref|XP_004055794.1| tRNA (adenine(58)-N(1))-methyltransferase catalytic subunit TRMT61A [Gorilla gorilla gorilla] >ref|XP_016782265.1| tRNA (adenine(58)-N(1))-methyltransferase catalytic subunit TRMT61A [Pan troglodytes] >ref|XP_016782266.1| tRNA (adenine(58)-N(1))-methyltransferase catalytic subunit TRMT61A [Pan troglodytes] >sp|Q96FX7.1| RecName: Full=tRNA (adenine(58)-N(1))-methyltransferase catalytic subunit TRMT61A; AltName: Full=mRNA methyladenosine-N(1)-methyltransferase catalytic subunit TRMT61A; AltName: Full=tRNA(m1A58)-methyltransferase subunit TRMT61A; Short=tRNA(m1A58)MTase subunit TRMT61A [Homo sapiens] >pdb|5CCB|A Chain A, Trna (adenine(58)-n(1))-methyltransferase Catalytic Subunit Trmt61a [Homo sapiens] >pdb|5CCX|A Chain A, Trna (adenine(58)-n(1))-methyltransferase Catalytic Subunit Trmt61a [Homo sapiens] >pdb|5CD1|A Chain A, Trna (adenine(58)-n(1))-methyltransferase Catalytic Subunit Trmt61a [Homo sapiens] >pdb|5CD1|D Chain D, Trna (adenine(58)-n(1))-methyltransferase Catalytic Subunit Trmt61a [Homo sapiens] >gb|AIC52871.1| TRMT61A, partial [synthetic construct] >emb|SJX32872.1| unnamed protein product, partial [Human ORFeome Gateway entry vector] >gb|AAH10167.1| TRNA methyltransferase 61 homolog A (S. cerevisiae) [Homo sapiens] >gb|EAW81824.1| chromosome 14 open reading frame 172, isoform CRA_b [Homo sapiens] >gb|EAW81825.1| chromosome 14 open reading frame 172, isoform CRA_b [Homo sapiens]\n",
      "NP_689520\n",
      "[<Bio.Blast.Record.HSP object at 0x000002B5749BAD30>]\n",
      "1\n"
     ]
    }
   ],
   "source": [
    "resultados_alinhamento=blast_resultados.alignments\n",
    "print(len(resultados_alinhamento)) \n",
    "print(resultados_alinhamento[0])\n",
    "alinhamento=resultados_alinhamento[0]\n",
    "print(alinhamento.hit_id)\n",
    "print(alinhamento.hit_def)\n",
    "print(alinhamento.accession)\n",
    "print(alinhamento.hsps)\n",
    "print(len(alinhamento.hsps))"
   ]
  },
  {
   "cell_type": "code",
   "execution_count": 8,
   "metadata": {},
   "outputs": [
    {
     "data": {
      "text/plain": [
       "1"
      ]
     },
     "execution_count": 8,
     "metadata": {},
     "output_type": "execute_result"
    }
   ],
   "source": [
    "x = blast_resultados.alignments[1]\n",
    "# for h in blast_resultados.alignments[1].hsps:\n",
    "len(blast_resultados.alignments[1].hsps)"
   ]
  },
  {
   "cell_type": "code",
   "execution_count": 9,
   "metadata": {},
   "outputs": [
    {
     "name": "stdout",
     "output_type": "stream",
     "text": [
      "50\n",
      "ref|XP_002825183.1| tRNA (adenine(58)-N(1))-methyltransferase catalytic subunit TRMT61A isoform X1 [Pongo abelii] >gb|PNJ26154.1| TRMT61A isoform 2 [Pongo abelii]\n",
      "           Length = 289\n",
      "\n",
      "ref|XP_002825183.1|\n",
      "tRNA (adenine(58)-N(1))-methyltransferase catalytic subunit TRMT61A isoform X1 [Pongo abelii] >gb|PNJ26154.1| TRMT61A isoform 2 [Pongo abelii]\n",
      "XP_002825183\n",
      "[<Bio.Blast.Record.HSP object at 0x000002B574935668>]\n",
      "1\n"
     ]
    }
   ],
   "source": [
    "resultados_alinhamento=blast_resultados.alignments\n",
    "print(len(resultados_alinhamento)) \n",
    "print(resultados_alinhamento[1])\n",
    "alinhamento=resultados_alinhamento[1]\n",
    "print(alinhamento.hit_id)\n",
    "print(alinhamento.hit_def)\n",
    "print(alinhamento.accession)\n",
    "print(alinhamento.hsps)\n",
    "print(len(alinhamento.hsps))"
   ]
  },
  {
   "cell_type": "code",
   "execution_count": 10,
   "metadata": {},
   "outputs": [
    {
     "data": {
      "text/plain": [
       "1"
      ]
     },
     "execution_count": 10,
     "metadata": {},
     "output_type": "execute_result"
    }
   ],
   "source": [
    "x = blast_resultados.alignments[2]\n",
    "# for h in blast_resultados.alignments[2].hsps:\n",
    "len(blast_resultados.alignments[2].hsps)"
   ]
  },
  {
   "cell_type": "code",
   "execution_count": 11,
   "metadata": {},
   "outputs": [
    {
     "name": "stdout",
     "output_type": "stream",
     "text": [
      "50\n",
      "ref|XP_030659639.1| tRNA (adenine(58)-N(1))-methyltransferase catalytic subunit TRMT61A [Nomascus leucogenys]\n",
      "           Length = 289\n",
      "\n",
      "ref|XP_030659639.1|\n",
      "tRNA (adenine(58)-N(1))-methyltransferase catalytic subunit TRMT61A [Nomascus leucogenys]\n",
      "XP_030659639\n",
      "[<Bio.Blast.Record.HSP object at 0x000002B574935518>]\n",
      "1\n"
     ]
    }
   ],
   "source": [
    "resultados_alinhamento=blast_resultados.alignments\n",
    "print(len(resultados_alinhamento)) \n",
    "print(resultados_alinhamento[2])\n",
    "alinhamento=resultados_alinhamento[2]\n",
    "print(alinhamento.hit_id)\n",
    "print(alinhamento.hit_def)\n",
    "print(alinhamento.accession)\n",
    "print(alinhamento.hsps)\n",
    "print(len(alinhamento.hsps))"
   ]
  },
  {
   "cell_type": "code",
   "execution_count": 12,
   "metadata": {},
   "outputs": [
    {
     "data": {
      "text/plain": [
       "1"
      ]
     },
     "execution_count": 12,
     "metadata": {},
     "output_type": "execute_result"
    }
   ],
   "source": [
    "x = blast_resultados.alignments[3]\n",
    "# for h in blast_resultados.alignments[3].hsps:\n",
    "len(blast_resultados.alignments[3].hsps)"
   ]
  },
  {
   "cell_type": "code",
   "execution_count": 13,
   "metadata": {},
   "outputs": [
    {
     "name": "stdout",
     "output_type": "stream",
     "text": [
      "50\n",
      "ref|NP_001244469.1| tRNA (adenine(58)-N(1))-methyltransferase catalytic subunit TRMT61A [Macaca mulatta] >ref|XP_005562343.2| PREDICTED: tRNA (adenine(58)-N(1))-methyltransferase catalytic subunit TRMT61A isoform X2 [Macaca fascicularis] >ref|XP_011846967.1| PREDICTED: tRNA (adenine(58)-N(1))-methyltransferase catalytic subunit TRMT61A [Mandrillus leucophaeus] >ref|XP_011939495.1| PREDICTED: tRNA (adenine(58)-N(1))-methyltransferase catalytic subunit TRMT61A isoform X4 [Cercocebus atys] >ref|XP_015000005.1| tRNA (adenine(58)-N(1))-methyltransferase catalytic subunit TRMT61A isoform X1 [Macaca mulatta] >ref|XP_025246958.1| tRNA (adenine(58)-N(1))-methyltransferase catalytic subunit TRMT61A [Theropithecus gelada]\n",
      "           Length = 289\n",
      "\n",
      "ref|NP_001244469.1|\n",
      "tRNA (adenine(58)-N(1))-methyltransferase catalytic subunit TRMT61A [Macaca mulatta] >ref|XP_005562343.2| PREDICTED: tRNA (adenine(58)-N(1))-methyltransferase catalytic subunit TRMT61A isoform X2 [Macaca fascicularis] >ref|XP_011846967.1| PREDICTED: tRNA (adenine(58)-N(1))-methyltransferase catalytic subunit TRMT61A [Mandrillus leucophaeus] >ref|XP_011939495.1| PREDICTED: tRNA (adenine(58)-N(1))-methyltransferase catalytic subunit TRMT61A isoform X4 [Cercocebus atys] >ref|XP_015000005.1| tRNA (adenine(58)-N(1))-methyltransferase catalytic subunit TRMT61A isoform X1 [Macaca mulatta] >ref|XP_025246958.1| tRNA (adenine(58)-N(1))-methyltransferase catalytic subunit TRMT61A [Theropithecus gelada]\n",
      "NP_001244469\n",
      "[<Bio.Blast.Record.HSP object at 0x000002B574603A20>]\n",
      "1\n"
     ]
    }
   ],
   "source": [
    "resultados_alinhamento=blast_resultados.alignments\n",
    "print(len(resultados_alinhamento)) \n",
    "print(resultados_alinhamento[3])\n",
    "alinhamento=resultados_alinhamento[3]\n",
    "print(alinhamento.hit_id)\n",
    "print(alinhamento.hit_def)\n",
    "print(alinhamento.accession)\n",
    "print(alinhamento.hsps)\n",
    "print(len(alinhamento.hsps))"
   ]
  },
  {
   "cell_type": "code",
   "execution_count": 14,
   "metadata": {},
   "outputs": [
    {
     "data": {
      "text/plain": [
       "1"
      ]
     },
     "execution_count": 14,
     "metadata": {},
     "output_type": "execute_result"
    }
   ],
   "source": [
    "x = blast_resultados.alignments[4]\n",
    "# for h in blast_resultados.alignments[4].hsps:\n",
    "len(blast_resultados.alignments[4].hsps)"
   ]
  },
  {
   "cell_type": "code",
   "execution_count": 15,
   "metadata": {},
   "outputs": [
    {
     "name": "stdout",
     "output_type": "stream",
     "text": [
      "50\n",
      "ref|XP_024651163.1| tRNA (adenine(58)-N(1))-methyltransferase catalytic subunit TRMT61A isoform X2 [Macaca nemestrina]\n",
      "           Length = 385\n",
      "\n",
      "ref|XP_024651163.1|\n",
      "tRNA (adenine(58)-N(1))-methyltransferase catalytic subunit TRMT61A isoform X2 [Macaca nemestrina]\n",
      "XP_024651163\n",
      "[<Bio.Blast.Record.HSP object at 0x000002B574603940>]\n",
      "1\n"
     ]
    }
   ],
   "source": [
    "resultados_alinhamento=blast_resultados.alignments\n",
    "print(len(resultados_alinhamento)) \n",
    "print(resultados_alinhamento[4])\n",
    "alinhamento=resultados_alinhamento[4]\n",
    "print(alinhamento.hit_id)\n",
    "print(alinhamento.hit_def)\n",
    "print(alinhamento.accession)\n",
    "print(alinhamento.hsps)\n",
    "print(len(alinhamento.hsps))"
   ]
  },
  {
   "cell_type": "code",
   "execution_count": 16,
   "metadata": {},
   "outputs": [
    {
     "data": {
      "text/plain": [
       "1"
      ]
     },
     "execution_count": 16,
     "metadata": {},
     "output_type": "execute_result"
    }
   ],
   "source": [
    "x = blast_resultados.alignments[5]\n",
    "# for h in blast_resultados.alignments[5].hsps:\n",
    "len(blast_resultados.alignments[5].hsps)"
   ]
  },
  {
   "cell_type": "code",
   "execution_count": 17,
   "metadata": {},
   "outputs": [
    {
     "name": "stdout",
     "output_type": "stream",
     "text": [
      "50\n",
      "ref|XP_003933412.1| PREDICTED: tRNA (adenine(58)-N(1))-methyltransferase catalytic subunit TRMT61A isoform X1 [Saimiri boliviensis boliviensis]\n",
      "           Length = 289\n",
      "\n",
      "ref|XP_003933412.1|\n",
      "PREDICTED: tRNA (adenine(58)-N(1))-methyltransferase catalytic subunit TRMT61A isoform X1 [Saimiri boliviensis boliviensis]\n",
      "XP_003933412\n",
      "[<Bio.Blast.Record.HSP object at 0x000002B5749BADA0>]\n",
      "1\n"
     ]
    }
   ],
   "source": [
    "resultados_alinhamento=blast_resultados.alignments\n",
    "print(len(resultados_alinhamento)) \n",
    "print(resultados_alinhamento[5])\n",
    "alinhamento=resultados_alinhamento[5]\n",
    "print(alinhamento.hit_id)\n",
    "print(alinhamento.hit_def)\n",
    "print(alinhamento.accession)\n",
    "print(alinhamento.hsps)\n",
    "print(len(alinhamento.hsps))"
   ]
  },
  {
   "cell_type": "code",
   "execution_count": 18,
   "metadata": {},
   "outputs": [
    {
     "data": {
      "text/plain": [
       "1"
      ]
     },
     "execution_count": 18,
     "metadata": {},
     "output_type": "execute_result"
    }
   ],
   "source": [
    "x = blast_resultados.alignments[6]\n",
    "# for h in blast_resultados.alignments[6].hsps:\n",
    "len(blast_resultados.alignments[6].hsps)"
   ]
  },
  {
   "cell_type": "code",
   "execution_count": 19,
   "metadata": {},
   "outputs": [
    {
     "name": "stdout",
     "output_type": "stream",
     "text": [
      "50\n",
      "ref|XP_002754354.1| PREDICTED: tRNA (adenine(58)-N(1))-methyltransferase catalytic subunit TRMT61A [Callithrix jacchus]\n",
      "           Length = 289\n",
      "\n",
      "ref|XP_002754354.1|\n",
      "PREDICTED: tRNA (adenine(58)-N(1))-methyltransferase catalytic subunit TRMT61A [Callithrix jacchus]\n",
      "XP_002754354\n",
      "[<Bio.Blast.Record.HSP object at 0x000002B5749BAE48>]\n",
      "1\n"
     ]
    }
   ],
   "source": [
    "resultados_alinhamento=blast_resultados.alignments\n",
    "print(len(resultados_alinhamento)) \n",
    "print(resultados_alinhamento[6])\n",
    "alinhamento=resultados_alinhamento[6]\n",
    "print(alinhamento.hit_id)\n",
    "print(alinhamento.hit_def)\n",
    "print(alinhamento.accession)\n",
    "print(alinhamento.hsps)\n",
    "print(len(alinhamento.hsps))"
   ]
  },
  {
   "cell_type": "code",
   "execution_count": 20,
   "metadata": {},
   "outputs": [
    {
     "data": {
      "text/plain": [
       "1"
      ]
     },
     "execution_count": 20,
     "metadata": {},
     "output_type": "execute_result"
    }
   ],
   "source": [
    "x = blast_resultados.alignments[7]\n",
    "# for h in blast_resultados.alignments[7].hsps:\n",
    "len(blast_resultados.alignments[7].hsps)"
   ]
  },
  {
   "cell_type": "code",
   "execution_count": 21,
   "metadata": {},
   "outputs": [
    {
     "name": "stdout",
     "output_type": "stream",
     "text": [
      "50\n",
      "ref|XP_003902363.1| tRNA (adenine(58)-N(1))-methyltransferase catalytic subunit TRMT61A [Papio anubis]\n",
      "           Length = 289\n",
      "\n",
      "ref|XP_003902363.1|\n",
      "tRNA (adenine(58)-N(1))-methyltransferase catalytic subunit TRMT61A [Papio anubis]\n",
      "XP_003902363\n",
      "[<Bio.Blast.Record.HSP object at 0x000002B5749BAEF0>]\n",
      "1\n"
     ]
    }
   ],
   "source": [
    "resultados_alinhamento=blast_resultados.alignments\n",
    "print(len(resultados_alinhamento)) \n",
    "print(resultados_alinhamento[7])\n",
    "alinhamento=resultados_alinhamento[7]\n",
    "print(alinhamento.hit_id)\n",
    "print(alinhamento.hit_def)\n",
    "print(alinhamento.accession)\n",
    "print(alinhamento.hsps)\n",
    "print(len(alinhamento.hsps))"
   ]
  },
  {
   "cell_type": "code",
   "execution_count": 22,
   "metadata": {},
   "outputs": [
    {
     "data": {
      "text/plain": [
       "1"
      ]
     },
     "execution_count": 22,
     "metadata": {},
     "output_type": "execute_result"
    }
   ],
   "source": [
    "x = blast_resultados.alignments[8]\n",
    "# for h in blast_resultados.alignments[8].hsps:\n",
    "len(blast_resultados.alignments[8].hsps)"
   ]
  },
  {
   "cell_type": "code",
   "execution_count": 23,
   "metadata": {},
   "outputs": [
    {
     "name": "stdout",
     "output_type": "stream",
     "text": [
      "50\n",
      "ref|XP_017360855.1| PREDICTED: tRNA (adenine(58)-N(1))-methyltransferase catalytic subunit TRMT61A isoform X2 [Cebus capucinus imitator]\n",
      "           Length = 289\n",
      "\n",
      "ref|XP_017360855.1|\n",
      "PREDICTED: tRNA (adenine(58)-N(1))-methyltransferase catalytic subunit TRMT61A isoform X2 [Cebus capucinus imitator]\n",
      "XP_017360855\n",
      "[<Bio.Blast.Record.HSP object at 0x000002B5749BAF98>]\n",
      "1\n"
     ]
    }
   ],
   "source": [
    "resultados_alinhamento=blast_resultados.alignments\n",
    "print(len(resultados_alinhamento)) \n",
    "print(resultados_alinhamento[8])\n",
    "alinhamento=resultados_alinhamento[8]\n",
    "print(alinhamento.hit_id)\n",
    "print(alinhamento.hit_def)\n",
    "print(alinhamento.accession)\n",
    "print(alinhamento.hsps)\n",
    "print(len(alinhamento.hsps))"
   ]
  },
  {
   "cell_type": "code",
   "execution_count": 24,
   "metadata": {},
   "outputs": [
    {
     "data": {
      "text/plain": [
       "1"
      ]
     },
     "execution_count": 24,
     "metadata": {},
     "output_type": "execute_result"
    }
   ],
   "source": [
    "x = blast_resultados.alignments[9]\n",
    "# for h in blast_resultados.alignments[9].hsps:\n",
    "len(blast_resultados.alignments[9].hsps)"
   ]
  },
  {
   "cell_type": "code",
   "execution_count": 25,
   "metadata": {},
   "outputs": [
    {
     "name": "stdout",
     "output_type": "stream",
     "text": [
      "50\n",
      "ref|XP_012326608.1| tRNA (adenine(58)-N(1))-methyltransferase catalytic subunit TRMT61A [Aotus nancymaae]\n",
      "           Length = 289\n",
      "\n",
      "ref|XP_012326608.1|\n",
      "tRNA (adenine(58)-N(1))-methyltransferase catalytic subunit TRMT61A [Aotus nancymaae]\n",
      "XP_012326608\n",
      "[<Bio.Blast.Record.HSP object at 0x000002B5749CC080>]\n",
      "1\n"
     ]
    }
   ],
   "source": [
    "resultados_alinhamento=blast_resultados.alignments\n",
    "print(len(resultados_alinhamento)) \n",
    "print(resultados_alinhamento[9])\n",
    "alinhamento=resultados_alinhamento[9]\n",
    "print(alinhamento.hit_id)\n",
    "print(alinhamento.hit_def)\n",
    "print(alinhamento.accession)\n",
    "print(alinhamento.hsps)\n",
    "print(len(alinhamento.hsps))"
   ]
  },
  {
   "cell_type": "code",
   "execution_count": 26,
   "metadata": {},
   "outputs": [
    {
     "data": {
      "text/plain": [
       "1"
      ]
     },
     "execution_count": 26,
     "metadata": {},
     "output_type": "execute_result"
    }
   ],
   "source": [
    "x = blast_resultados.alignments[10]\n",
    "# for h in blast_resultados.alignments[10].hsps:\n",
    "len(blast_resultados.alignments[10].hsps)"
   ]
  },
  {
   "cell_type": "code",
   "execution_count": 27,
   "metadata": {},
   "outputs": [
    {
     "name": "stdout",
     "output_type": "stream",
     "text": [
      "50\n",
      "ref|XP_011806813.1| PREDICTED: tRNA (adenine(58)-N(1))-methyltransferase catalytic subunit TRMT61A [Colobus angolensis palliatus]\n",
      "           Length = 289\n",
      "\n",
      "ref|XP_011806813.1|\n",
      "PREDICTED: tRNA (adenine(58)-N(1))-methyltransferase catalytic subunit TRMT61A [Colobus angolensis palliatus]\n",
      "XP_011806813\n",
      "[<Bio.Blast.Record.HSP object at 0x000002B5749CC128>]\n",
      "1\n"
     ]
    }
   ],
   "source": [
    "resultados_alinhamento=blast_resultados.alignments\n",
    "print(len(resultados_alinhamento)) \n",
    "print(resultados_alinhamento[10])\n",
    "alinhamento=resultados_alinhamento[10]\n",
    "print(alinhamento.hit_id)\n",
    "print(alinhamento.hit_def)\n",
    "print(alinhamento.accession)\n",
    "print(alinhamento.hsps)\n",
    "print(len(alinhamento.hsps))"
   ]
  }
 ],
 "metadata": {
  "kernelspec": {
   "display_name": "Python 3",
   "language": "python",
   "name": "python3"
  },
  "language_info": {
   "codemirror_mode": {
    "name": "ipython",
    "version": 3
   },
   "file_extension": ".py",
   "mimetype": "text/x-python",
   "name": "python",
   "nbconvert_exporter": "python",
   "pygments_lexer": "ipython3",
   "version": "3.7.3"
  }
 },
 "nbformat": 4,
 "nbformat_minor": 2
}
